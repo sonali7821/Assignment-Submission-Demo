{
 "cells": [
  {
   "cell_type": "code",
   "execution_count": 9,
   "metadata": {},
   "outputs": [],
   "source": [
    "import smtplib"
   ]
  },
  {
   "cell_type": "code",
   "execution_count": null,
   "metadata": {},
   "outputs": [],
   "source": [
    "s=smtplib.SMTP(\"smpt.gmail.com\",587)\n",
    "s.starttls()\n",
    "\n",
    "s.login(\"info@gmail.com\",\"sonalikumar779@gmail.com\")\n",
    "for i in range(10):\n",
    "    msg=input(\"enter your meassage here\")\n",
    "s.sendmail(\"info@gmail.com\",\"sonalikumar779@gmail.com\",msg)\n",
    "s.quit()"
   ]
  },
  {
   "cell_type": "code",
   "execution_count": null,
   "metadata": {},
   "outputs": [],
   "source": []
  }
 ],
 "metadata": {
  "kernelspec": {
   "display_name": "Python 3",
   "language": "python",
   "name": "python3"
  },
  "language_info": {
   "codemirror_mode": {
    "name": "ipython",
    "version": 3
   },
   "file_extension": ".py",
   "mimetype": "text/x-python",
   "name": "python",
   "nbconvert_exporter": "python",
   "pygments_lexer": "ipython3",
   "version": "3.8.3"
  }
 },
 "nbformat": 4,
 "nbformat_minor": 4
}
