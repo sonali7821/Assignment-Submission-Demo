{
 "cells": [
  {
   "cell_type": "code",
   "execution_count": null,
   "metadata": {},
   "outputs": [],
   "source": [
    "#python to find the largest of three number"
   ]
  },
  {
   "cell_type": "code",
   "execution_count": 6,
   "metadata": {},
   "outputs": [
    {
     "name": "stdout",
     "output_type": "stream",
     "text": [
      "gretest is b\n",
      "gretest is c \n",
      "gretest is a\n"
     ]
    }
   ],
   "source": [
    "def max(a,b,c):\n",
    "    if a>b:\n",
    "        if a>c:\n",
    "            print(\"gretest is a\")\n",
    "        else:\n",
    "            print(\"gretest is c \")\n",
    "            \n",
    "    else:\n",
    "        if b>c:\n",
    "            print(\"gretest is b\")\n",
    "        else:\n",
    "            print(\"gretest is c\")\n",
    "n=max(45,78,23)\n",
    "n=max(34,12,76)\n",
    "n=max(45,2,3)\n"
   ]
  },
  {
   "cell_type": "code",
   "execution_count": null,
   "metadata": {},
   "outputs": [],
   "source": [
    "#Q2 write the python funtion to check the string is palindrome or not\n"
   ]
  },
  {
   "cell_type": "code",
   "execution_count": 10,
   "metadata": {},
   "outputs": [
    {
     "name": "stdout",
     "output_type": "stream",
     "text": [
      " yes,string is palindrome\n"
     ]
    }
   ],
   "source": [
    "def ispalindrome(s):\n",
    "    return s==s[::-1]\n",
    "s=\"mam\"\n",
    "ans=ispalindrome(s)\n",
    "if ans:\n",
    "    print(\" yes,string is palindrome\")\n",
    "else:\n",
    "    print(\"no ,string is not palindrome\")"
   ]
  },
  {
   "cell_type": "code",
   "execution_count": null,
   "metadata": {},
   "outputs": [],
   "source": [
    "#Q3.write a python funtion to accept the string and count the uppercase anf lowercase"
   ]
  },
  {
   "cell_type": "code",
   "execution_count": 2,
   "metadata": {},
   "outputs": [
    {
     "name": "stdout",
     "output_type": "stream",
     "text": [
      "(4, 18)\n"
     ]
    }
   ],
   "source": [
    "def up_low(string):\n",
    "    uppers=0\n",
    "    lowers=0\n",
    "    for char in string:\n",
    "        if char.islower():\n",
    "            lowers+=1\n",
    "        elif char.isupper():\n",
    "            uppers+=1\n",
    "        else:\n",
    "            pass\n",
    "    return (uppers,lowers)\n",
    "print(up_low(\"Hello How Was the Day today?\"))\n",
    "        \n",
    "    "
   ]
  },
  {
   "cell_type": "code",
   "execution_count": null,
   "metadata": {},
   "outputs": [],
   "source": [
    "#Q4.write a python funtion to sum all the number in a list"
   ]
  },
  {
   "cell_type": "code",
   "execution_count": 6,
   "metadata": {},
   "outputs": [
    {
     "name": "stdout",
     "output_type": "stream",
     "text": [
      "64\n"
     ]
    }
   ],
   "source": [
    "def sum(num):\n",
    "    total=0\n",
    "    for  x in num:\n",
    "        total+=x\n",
    "    return total\n",
    "print(sum((2,5,6,7,8,9,23,4)))"
   ]
  },
  {
   "cell_type": "code",
   "execution_count": null,
   "metadata": {},
   "outputs": [],
   "source": [
    "# Q5 write a python funtion to multiply all the numbers in the list"
   ]
  },
  {
   "cell_type": "code",
   "execution_count": 7,
   "metadata": {},
   "outputs": [
    {
     "name": "stdout",
     "output_type": "stream",
     "text": [
      "720\n"
     ]
    }
   ],
   "source": [
    "def mul(num):\n",
    "    total=1\n",
    "    for x in num:\n",
    "        total*=x\n",
    "    return total\n",
    "print(mul((2,5,6,1,4,3)))"
   ]
  },
  {
   "cell_type": "code",
   "execution_count": null,
   "metadata": {},
   "outputs": [],
   "source": [
    "# Q6 write a python funtion that takes the list  and return the new list with unique element of the list"
   ]
  },
  {
   "cell_type": "code",
   "execution_count": 9,
   "metadata": {},
   "outputs": [
    {
     "name": "stdout",
     "output_type": "stream",
     "text": [
      "[1, 2, 3, 4, 5, 6, 7, 8]\n"
     ]
    }
   ],
   "source": [
    "def unique_list(l):\n",
    "    x=[]\n",
    "    for a in l:\n",
    "        if a not in x:\n",
    "            x.append(a)\n",
    "    return x\n",
    "print(unique_list([1,1,2,2,2,3,4,5,5,6,7,8]))"
   ]
  },
  {
   "cell_type": "code",
   "execution_count": null,
   "metadata": {},
   "outputs": [],
   "source": []
  }
 ],
 "metadata": {
  "kernelspec": {
   "display_name": "Python 3",
   "language": "python",
   "name": "python3"
  },
  "language_info": {
   "codemirror_mode": {
    "name": "ipython",
    "version": 3
   },
   "file_extension": ".py",
   "mimetype": "text/x-python",
   "name": "python",
   "nbconvert_exporter": "python",
   "pygments_lexer": "ipython3",
   "version": "3.8.3"
  }
 },
 "nbformat": 4,
 "nbformat_minor": 4
}
