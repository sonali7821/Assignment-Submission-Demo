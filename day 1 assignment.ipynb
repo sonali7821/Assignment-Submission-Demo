{
 "cells": [
  {
   "cell_type": "code",
   "execution_count": null,
   "metadata": {},
   "outputs": [],
   "source": [
    "#Q1.find the value of the following question,where x=5"
   ]
  },
  {
   "cell_type": "code",
   "execution_count": 13,
   "metadata": {},
   "outputs": [
    {
     "data": {
      "text/plain": [
       "0.26785714285714285"
      ]
     },
     "execution_count": 13,
     "metadata": {},
     "output_type": "execute_result"
    }
   ],
   "source": [
    "x=5\n",
    "y=((((2*x)+5)/((x**2)+(5*x)+6)))\n",
    "y\n",
    "\n"
   ]
  },
  {
   "cell_type": "code",
   "execution_count": 14,
   "metadata": {},
   "outputs": [
    {
     "data": {
      "text/plain": [
       "3.7333333333333334"
      ]
     },
     "execution_count": 14,
     "metadata": {},
     "output_type": "execute_result"
    }
   ],
   "source": [
    "x=5\n",
    "z=((((x**2)+(5*x)+6))/((2*x)+5))\n",
    "z"
   ]
  },
  {
   "cell_type": "code",
   "execution_count": 11,
   "metadata": {},
   "outputs": [
    {
     "data": {
      "text/plain": [
       "-28"
      ]
     },
     "execution_count": 11,
     "metadata": {},
     "output_type": "execute_result"
    }
   ],
   "source": [
    "w=((2*x)-3)*(x-9)\n",
    "w"
   ]
  },
  {
   "cell_type": "code",
   "execution_count": null,
   "metadata": {},
   "outputs": [],
   "source": [
    "#Q2.create a username and password login file using nested while loop.\n"
   ]
  },
  {
   "cell_type": "code",
   "execution_count": 12,
   "metadata": {},
   "outputs": [
    {
     "name": "stdout",
     "output_type": "stream",
     "text": [
      "enter your usernamesonali\n",
      "enter your passwordjava\n",
      "your username and password are correct!\n"
     ]
    }
   ],
   "source": [
    "ans_1=\"sonali\"\n",
    "ans_2=\"java\"\n",
    "getin_1=input(\"enter your username\")\n",
    "getin_2=input(\"enter your password\")\n",
    "\n",
    "while getin_1!=ans_1 or getin_2 !=ans_2:\n",
    "    print(\"incorrect\")\n",
    "    print(\"please proceed\")\n",
    "    getin_1=input(\"enter your username:\")\n",
    "    getin_2=input(\"enter your password\")\n",
    "print(\"your username and password are correct!\")"
   ]
  },
  {
   "cell_type": "code",
   "execution_count": 13,
   "metadata": {},
   "outputs": [
    {
     "name": "stdout",
     "output_type": "stream",
     "text": [
      "enter your usernamedsjkjc\n",
      "enter your passwordkjdsnlk\n",
      "incorrect\n",
      "please proceed\n",
      "enter your username:sonaki\n",
      "enter your passwordsdslcsa\n",
      "incorrect\n",
      "please proceed\n",
      "enter your username:opaosmxs\n",
      "enter your passwordadnbmknsc\n",
      "incorrect\n",
      "please proceed\n",
      "enter your username:sonali\n",
      "enter your passwordjava\n",
      "your username and password are correct!\n"
     ]
    }
   ],
   "source": [
    "ans_1=\"sonali\"\n",
    "ans_2=\"java\"\n",
    "getin_1=input(\"enter your username\")\n",
    "getin_2=input(\"enter your password\")\n",
    "\n",
    "while getin_1!=ans_1 or getin_2 !=ans_2:\n",
    "    print(\"incorrect\")\n",
    "    print(\"please proceed\")\n",
    "    getin_1=input(\"enter your username:\")\n",
    "    getin_2=input(\"enter your password\")\n",
    "print(\"your username and password are correct!\")"
   ]
  },
  {
   "cell_type": "code",
   "execution_count": null,
   "metadata": {},
   "outputs": [],
   "source": []
  }
 ],
 "metadata": {
  "kernelspec": {
   "display_name": "Python 3",
   "language": "python",
   "name": "python3"
  },
  "language_info": {
   "codemirror_mode": {
    "name": "ipython",
    "version": 3
   },
   "file_extension": ".py",
   "mimetype": "text/x-python",
   "name": "python",
   "nbconvert_exporter": "python",
   "pygments_lexer": "ipython3",
   "version": "3.8.3"
  }
 },
 "nbformat": 4,
 "nbformat_minor": 4
}
